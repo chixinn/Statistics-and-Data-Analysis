{
 "metadata": {
  "language_info": {
   "codemirror_mode": {
    "name": "ipython",
    "version": 3
   },
   "file_extension": ".py",
   "mimetype": "text/x-python",
   "name": "python",
   "nbconvert_exporter": "python",
   "pygments_lexer": "ipython3",
   "version": "3.7.3-final"
  },
  "orig_nbformat": 2,
  "kernelspec": {
   "name": "Python 3.7.3 64-bit",
   "display_name": "Python 3.7.3 64-bit",
   "metadata": {
    "interpreter": {
     "hash": "31f2aee4e71d21fbe5cf8b01ff0e069b9275f58929596ceb00d14d90e3e16cd6"
    }
   }
  }
 },
 "nbformat": 4,
 "nbformat_minor": 2,
 "cells": [
  {
   "cell_type": "code",
   "execution_count": 1,
   "metadata": {},
   "outputs": [],
   "source": []
  },
  {
   "cell_type": "code",
   "execution_count": 2,
   "metadata": {},
   "outputs": [
    {
     "output_type": "execute_result",
     "data": {
      "text/plain": [
       "['httpfs-log4j.properties',\n",
       " 'mapred-site.xml.template',\n",
       " 'id_rsa',\n",
       " 'yarn-site.xml',\n",
       " 'mapred-env.sh',\n",
       " 'hadoop-metrics.properties',\n",
       " 'hdfs-site.xml',\n",
       " 'hadoop-policy.xml',\n",
       " 'httpfs-env.sh',\n",
       " 'yarn-env.cmd',\n",
       " 'kms-site.xml',\n",
       " 'httpfs-signature.secret',\n",
       " 'mapred-queues.xml.template',\n",
       " 'yarn-excludes',\n",
       " 'yarn-env.sh',\n",
       " 'ssl-client.xml.example',\n",
       " 'kms-log4j.properties',\n",
       " 'container-executor.cfg',\n",
       " 'core-site.xml',\n",
       " 'hadoop-env.cmd',\n",
       " 'hadoop-metrics2.properties',\n",
       " 'ssl-server.xml.example',\n",
       " 'slaves',\n",
       " 'kms-env.sh',\n",
       " 'kms-acls.xml',\n",
       " 'excludes',\n",
       " 'configuration.xsl',\n",
       " 'capacity-scheduler.xml',\n",
       " 'mapred-site.xml',\n",
       " 'hadoop-env.sh',\n",
       " 'mapred-env.cmd',\n",
       " 'log4j.properties',\n",
       " 'httpfs-site.xml']"
      ]
     },
     "metadata": {},
     "execution_count": 2
    }
   ],
   "source": [
    "dirs"
   ]
  },
  {
   "cell_type": "code",
   "execution_count": null,
   "metadata": {},
   "outputs": [],
   "source": []
  }
 ]
}