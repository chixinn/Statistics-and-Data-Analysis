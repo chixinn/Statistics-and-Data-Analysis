{
 "metadata": {
  "language_info": {
   "codemirror_mode": {
    "name": "ipython",
    "version": 3
   },
   "file_extension": ".py",
   "mimetype": "text/x-python",
   "name": "python",
   "nbconvert_exporter": "python",
   "pygments_lexer": "ipython3",
   "version": "3.8.5-final"
  },
  "orig_nbformat": 2,
  "kernelspec": {
   "name": "Python 3.8.5 64-bit",
   "display_name": "Python 3.8.5 64-bit",
   "metadata": {
    "interpreter": {
     "hash": "1ee38ef4a5a9feb55287fd749643f13d043cb0a7addaab2a9c224cbe137c0062"
    }
   }
  }
 },
 "nbformat": 4,
 "nbformat_minor": 2,
 "cells": [
  {
   "cell_type": "code",
   "execution_count": 1,
   "metadata": {},
   "outputs": [],
   "source": [
    "import numpy as np \n",
    "import pandas as pd\n",
    "#当样本数量不充分大的时候求分布"
   ]
  },
  {
   "cell_type": "code",
   "execution_count": 2,
   "metadata": {},
   "outputs": [],
   "source": [
    "#首先生成n个服从整体分布为标准正态分布的样本\n",
    "def number_generate(n):\n",
    "    res=np.random.normal(size=n)\n",
    "    return res"
   ]
  },
  {
   "cell_type": "code",
   "execution_count": 3,
   "metadata": {},
   "outputs": [],
   "source": [
    "res=number_generate(100000)\n"
   ]
  },
  {
   "cell_type": "code",
   "execution_count": 4,
   "metadata": {},
   "outputs": [],
   "source": [
    "#生成样本k阶中心矩：\n",
    "def k_ju(k,array):\n",
    "    mean=np.mean(array)\n",
    "    ans=0\n",
    "    for item in array:\n",
    "        ans=ans+(item-mean)**k\n",
    "    res=ans/len(array)\n",
    "    return res"
   ]
  },
  {
   "cell_type": "code",
   "execution_count": 5,
   "metadata": {},
   "outputs": [
    {
     "output_type": "stream",
     "name": "stdout",
     "text": [
      "0.012255776828626363\n"
     ]
    }
   ],
   "source": [
    "print(k_ju(3,res))"
   ]
  },
  {
   "cell_type": "code",
   "execution_count": 6,
   "metadata": {},
   "outputs": [],
   "source": [
    "def yangben_generate(res):\n",
    "    b_3=k_ju(3,res)\n",
    "    b_2=k_ju(2,res)\n",
    "    b_2_1=b_2**(1.5)\n",
    "    b_4=k_ju(4,res)\n",
    "    b_2_2=b_2**2\n",
    "    beta_s=b_3/b_2_1\n",
    "    beta_k=b_4/b_2_2-3\n",
    "    return beta_s,beta_k#偏度 #峰度"
   ]
  },
  {
   "cell_type": "code",
   "execution_count": 7,
   "metadata": {
    "tags": []
   },
   "outputs": [
    {
     "output_type": "stream",
     "name": "stdout",
     "text": [
      "3\n",
      "10000\n",
      "4\n",
      "10000\n",
      "5\n",
      "10000\n",
      "6\n",
      "10000\n",
      "7\n",
      "10000\n",
      "8\n",
      "10000\n",
      "9\n",
      "10000\n",
      "10\n",
      "10000\n",
      "11\n",
      "10000\n",
      "12\n",
      "10000\n",
      "13\n",
      "10000\n",
      "14\n",
      "10000\n",
      "15\n",
      "10000\n",
      "16\n",
      "10000\n",
      "17\n",
      "10000\n",
      "18\n",
      "10000\n",
      "19\n",
      "10000\n",
      "20\n",
      "10000\n",
      "18\n"
     ]
    }
   ],
   "source": [
    "beta_s_total=[]\n",
    "beta_k_total=[]\n",
    "for iter in range(3,21):\n",
    "    beta_s_list_single=[]\n",
    "    beta_k_list_single=[]\n",
    "    for jiter in range(10000):\n",
    "        res=number_generate(iter)\n",
    "        beta_s,beta_k=yangben_generate(res)#\n",
    "        \n",
    "        #res=pd.Series(res)\n",
    "        #beta_s=res.skew()\n",
    "        #beta_k=res.kurt()\n",
    "        beta_s_list_single.append(beta_s)\n",
    "        beta_k_list_single.append(beta_k)\n",
    "    #print(len(res))\n",
    "    #print(len(beta_s_list_single))\n",
    "    beta_s_total.append(beta_s_list_single)\n",
    "    beta_k_total.append(beta_k_list_single)"
   ]
  },
  {
   "cell_type": "code",
   "execution_count": 8,
   "metadata": {},
   "outputs": [
    {
     "output_type": "stream",
     "name": "stdout",
     "text": [
      "[ 0.1  1.   2.5  5.  10.  20.  30.  40.  50.  60.  70.  80.  90.  97.5\n 99.  99.9]\n[ 3  4  5  6  7  8  9 10 11 12 13 14 15 16 17 18 19 20]\n"
     ]
    }
   ],
   "source": [
    "q=[0.001,0.01,0.025,0.05,0.1,0.2,0.3,0.4,0.5,0.6,0.7,0.8,0.9,0.975,0.99,0.999]\n",
    "q=np.multiply(q,100)\n",
    "print(q)\n",
    "row=np.arange(3,21,1)\n",
    "print(row)"
   ]
  },
  {
   "cell_type": "code",
   "execution_count": 9,
   "metadata": {},
   "outputs": [
    {
     "output_type": "stream",
     "name": "stdout",
     "text": [
      "(18, 16)\n"
     ]
    }
   ],
   "source": [
    "answer_s=[]\n",
    "for rowiter in beta_s_total:\n",
    "    ans=np.percentile(rowiter,q)\n",
    "    answer_s.append(ans)\n",
    "data=np.array(answer_s)\n",
    "print(data.shape)\n",
    "data_df=pd.DataFrame(data)\n",
    "data_df.columns=q\n",
    "data_df.index=row"
   ]
  },
  {
   "cell_type": "code",
   "execution_count": 10,
   "metadata": {},
   "outputs": [
    {
     "output_type": "stream",
     "name": "stdout",
     "text": [
      "(18, 16)\n        0.1       1.0       2.5       5.0       10.0      20.0      30.0  \\\n3  -1.500000 -1.500000 -1.500000 -1.500000 -1.500000 -1.500000 -1.500000   \n4  -1.997414 -1.971529 -1.934074 -1.858886 -1.745342 -1.540984 -1.367257   \n5  -1.824273 -1.787142 -1.757187 -1.722105 -1.659060 -1.521179 -1.366870   \n6  -1.937485 -1.828872 -1.725924 -1.622857 -1.517458 -1.413323 -1.288679   \n7  -1.850808 -1.759247 -1.676979 -1.583045 -1.467243 -1.303985 -1.174879   \n8  -1.832519 -1.680054 -1.601139 -1.533568 -1.419148 -1.247254 -1.106967   \n9  -1.793034 -1.657122 -1.567310 -1.477861 -1.365444 -1.203987 -1.056886   \n10 -1.758040 -1.624490 -1.532966 -1.444366 -1.318872 -1.156828 -1.011581   \n11 -1.695868 -1.583016 -1.496507 -1.396126 -1.275409 -1.103025 -0.962781   \n12 -1.692715 -1.557567 -1.453863 -1.370502 -1.252363 -1.080130 -0.930691   \n13 -1.668754 -1.516666 -1.426539 -1.331384 -1.214641 -1.050087 -0.909455   \n14 -1.642985 -1.480990 -1.392281 -1.308799 -1.193476 -1.020093 -0.873283   \n15 -1.625392 -1.464753 -1.376384 -1.283986 -1.164322 -0.985181 -0.845028   \n16 -1.583319 -1.439955 -1.336192 -1.247445 -1.123662 -0.961593 -0.812478   \n17 -1.541533 -1.413606 -1.324446 -1.229608 -1.109631 -0.939671 -0.795113   \n18 -1.564837 -1.398124 -1.310422 -1.220883 -1.097984 -0.923238 -0.775674   \n19 -1.580968 -1.381155 -1.286091 -1.194104 -1.070610 -0.902731 -0.759258   \n\n        40.0      50.0      60.0      70.0      80.0      90.0      97.5  \\\n3  -1.500000 -1.500000 -1.500000 -1.500000 -1.500000 -1.500000 -1.500000   \n4  -1.217716 -1.106235 -1.022162 -0.968894 -0.890069 -0.788137 -0.701847   \n5  -1.212497 -1.044147 -0.877903 -0.707918 -0.531824 -0.302420 -0.000018   \n6  -1.143756 -0.982966 -0.806686 -0.604856 -0.340731 -0.004047  0.499223   \n7  -1.049421 -0.900444 -0.721843 -0.499352 -0.220188  0.194905  0.865533   \n8  -0.973456 -0.823712 -0.656141 -0.439046 -0.141642  0.313065  1.114682   \n9  -0.903037 -0.753279 -0.581914 -0.367487 -0.082545  0.410993  1.214630   \n10 -0.868462 -0.721001 -0.537999 -0.316900 -0.025431  0.473334  1.466658   \n11 -0.810903 -0.654211 -0.483937 -0.264438  0.026380  0.521955  1.521480   \n12 -0.787845 -0.640569 -0.468683 -0.257918  0.025414  0.520733  1.585961   \n13 -0.767586 -0.611746 -0.433226 -0.222413  0.074715  0.578459  1.612543   \n14 -0.736491 -0.588453 -0.410446 -0.200477  0.095990  0.598410  1.582277   \n15 -0.701572 -0.550193 -0.380322 -0.171030  0.098552  0.606477  1.529829   \n16 -0.665542 -0.518628 -0.351091 -0.136343  0.142235  0.647556  1.663100   \n17 -0.655285 -0.500936 -0.330202 -0.125016  0.167160  0.635383  1.666953   \n18 -0.628110 -0.484234 -0.308006 -0.097903  0.185650  0.691972  1.679324   \n19 -0.621572 -0.472081 -0.310290 -0.100431  0.173502  0.645478  1.660541   \n\n        99.0      99.9  \n3  -1.500000 -1.500000  \n4  -0.679525 -0.668530  \n5   0.118334  0.223475  \n6   0.738280  1.055497  \n7   1.197190  1.788276  \n8   1.530531  2.173352  \n9   1.704225  2.851284  \n10  2.111477  3.461201  \n11  2.094571  3.338380  \n12  2.182926  3.507852  \n13  2.354922  3.874576  \n14  2.287641  3.874902  \n15  2.212908  3.776411  \n16  2.361737  3.975662  \n17  2.302858  4.169584  \n18  2.440135  3.619072  \n19  2.357143  4.212538  \n"
     ]
    }
   ],
   "source": [
    "answer_k=[]\n",
    "for rowiter in beta_k_total:\n",
    "    ans=np.percentile(rowiter,q)\n",
    "    answer_k.append(ans)\n",
    "data2=np.array(answer_k)\n",
    "\n",
    "data_df_2=pd.DataFrame(data2)\n",
    "data_df_2.columns=q\n",
    "data_df_2.index=row\n",
    "#print(data_df_2.shape)\n",
    "#print(data_df_2[:17])"
   ]
  },
  {
   "cell_type": "code",
   "execution_count": 11,
   "metadata": {},
   "outputs": [],
   "source": [
    "writer = pd.ExcelWriter('ansFinal.xlsx')\n",
    "data_df.to_excel(writer,'page_s',float_format='%.5f')\n",
    "data_df_2.to_excel(writer,'page_k',float_format='%.5f')\n",
    "writer.save()  #关键4\n"
   ]
  },
  {
   "cell_type": "code",
   "execution_count": null,
   "metadata": {},
   "outputs": [],
   "source": []
  }
 ]
}