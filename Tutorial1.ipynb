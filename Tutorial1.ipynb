{
 "metadata": {
  "language_info": {
   "codemirror_mode": {
    "name": "ipython",
    "version": 3
   },
   "file_extension": ".py",
   "mimetype": "text/x-python",
   "name": "python",
   "nbconvert_exporter": "python",
   "pygments_lexer": "ipython3",
   "version": "3.7.0-final"
  },
  "orig_nbformat": 2,
  "kernelspec": {
   "name": "python37064bit241e67d6cba347fdadab011c958a0214",
   "display_name": "Python 3.7.0 64-bit",
   "metadata": {
    "interpreter": {
     "hash": "31f2aee4e71d21fbe5cf8b01ff0e069b9275f58929596ceb00d14d90e3e16cd6"
    }
   }
  }
 },
 "nbformat": 4,
 "nbformat_minor": 2,
 "cells": [
  {
   "cell_type": "code",
   "execution_count": 1,
   "metadata": {},
   "outputs": [],
   "source": [
    "import math\n",
    "import numpy as np"
   ]
  },
  {
   "cell_type": "code",
   "execution_count": 2,
   "metadata": {
    "tags": []
   },
   "outputs": [
    {
     "output_type": "stream",
     "name": "stdout",
     "text": "2.321928094887362\n"
    }
   ],
   "source": [
    "def func(x):\n",
    "    y=math.log(x+1,2)#以2为底的对数的表示\n",
    "    return y\n",
    "a=func(4)\n",
    "print(a)\n"
   ]
  },
  {
   "cell_type": "code",
   "execution_count": 3,
   "metadata": {},
   "outputs": [],
   "source": [
    "def Mentekalo(n):\n",
    "    ans=np.random.uniform(0,1,(n,2))\n",
    "    count=0\n",
    "    for i in ans:\n",
    "        if(i[0]<func(i[1])):\n",
    "            count=count+1\n",
    "    J=count/n\n",
    "    print(J)"
   ]
  },
  {
   "cell_type": "code",
   "execution_count": 4,
   "metadata": {
    "tags": []
   },
   "outputs": [
    {
     "output_type": "stream",
     "name": "stdout",
     "text": "0.569\nn=1000  None\n0.5628\nn=10000 None\n"
    }
   ],
   "source": [
    "print(\"n=1000 \",Mentekalo(1000))\n",
    "print(\"n=10000\",Mentekalo(10000))"
   ]
  },
  {
   "cell_type": "code",
   "execution_count": 5,
   "metadata": {},
   "outputs": [],
   "source": [
    "#辛钦\n",
    "def xinqin(n):\n",
    "    ansx=np.random.uniform(0,1,n)\n",
    "    sum=0\n",
    "    for x in ansx:\n",
    "        y=func(x)\n",
    "        sum=sum+y\n",
    "    J=sum/n\n",
    "    print(J)\n",
    "    "
   ]
  },
  {
   "cell_type": "code",
   "execution_count": 7,
   "metadata": {
    "tags": []
   },
   "outputs": [
    {
     "output_type": "stream",
     "name": "stdout",
     "text": "0.555781156623623\nn=1000  None\n0.5567477468299313\nn=10000  None\n"
    }
   ],
   "source": [
    "print(\"n=1000 \",xinqin(1000))\n",
    "print(\"n=10000 \",xinqin(10000))\n"
   ]
  },
  {
   "cell_type": "code",
   "execution_count": null,
   "metadata": {},
   "outputs": [],
   "source": []
  }
 ]
}