{
 "metadata": {
  "language_info": {
   "codemirror_mode": {
    "name": "ipython",
    "version": 3
   },
   "file_extension": ".py",
   "mimetype": "text/x-python",
   "name": "python",
   "nbconvert_exporter": "python",
   "pygments_lexer": "ipython3",
   "version": "3.7.0-final"
  },
  "orig_nbformat": 2,
  "kernelspec": {
   "name": "python37064bit241e67d6cba347fdadab011c958a0214",
   "display_name": "Python 3.7.0 64-bit",
   "language": "python"
  }
 },
 "nbformat": 4,
 "nbformat_minor": 2,
 "cells": [
  {
   "cell_type": "code",
   "execution_count": 1,
   "metadata": {},
   "outputs": [
    {
     "output_type": "execute_result",
     "data": {
      "text/plain": [
       "'\\n计算概率分布的相关参数时，一般使用 scipy 包，常用的函数包括以下几个：\\n\\npdf：连续随机分布的概率密度函数\\npmf：离散随机分布的概率密度函数\\ncdf：累计分布函数\\nppf: 百分位函数（累计分布函数的逆函数）\\nlsf: 生存函数的逆函数（1 - cdf 的逆函数）\\n\\n'"
      ]
     },
     "metadata": {},
     "execution_count": 1
    }
   ],
   "source": [
    "import scipy.stats as st\n",
    "'''\n",
    "计算概率分布的相关参数时，一般使用 scipy 包，常用的函数包括以下几个：\n",
    "\n",
    "pdf：连续随机分布的概率密度函数\n",
    "pmf：离散随机分布的概率密度函数\n",
    "cdf：累计分布函数\n",
    "ppf: 百分位函数（累计分布函数的逆函数）\n",
    "lsf: 生存函数的逆函数（1 - cdf 的逆函数）\n",
    "\n",
    "'''"
   ]
  },
  {
   "cell_type": "code",
   "execution_count": 11,
   "metadata": {},
   "outputs": [
    {
     "output_type": "execute_result",
     "data": {
      "text/plain": [
       "4.3515493866053134e-06"
      ]
     },
     "metadata": {},
     "execution_count": 11
    }
   ],
   "source": [
    "2*(1-st.t.cdf(12.696,df=7))"
   ]
  },
  {
   "cell_type": "code",
   "execution_count": 9,
   "metadata": {},
   "outputs": [
    {
     "output_type": "execute_result",
     "data": {
      "text/plain": [
       "0.5308178079124299"
      ]
     },
     "metadata": {},
     "execution_count": 9
    }
   ],
   "source": [
    "st.f.cdf(1.0754,dfn=5,dfd=5)"
   ]
  },
  {
   "cell_type": "code",
   "execution_count": null,
   "metadata": {},
   "outputs": [],
   "source": []
  }
 ]
}